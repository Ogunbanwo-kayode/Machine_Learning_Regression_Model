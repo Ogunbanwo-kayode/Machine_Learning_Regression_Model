{
 "cells": [
  {
   "cell_type": "code",
   "execution_count": 2,
   "id": "e87520b0",
   "metadata": {},
   "outputs": [],
   "source": [
    "# import the required libraries\n",
    "\n",
    "import pandas as pd\n",
    "import numpy as np\n",
    "import matplotlib.pyplot as plt\n",
    "import seaborn as sns\n",
    "\n",
    "%matplotlib inline"
   ]
  },
  {
   "cell_type": "code",
   "execution_count": 3,
   "id": "f248d2ff",
   "metadata": {},
   "outputs": [],
   "source": [
    "# Load the dataset\n",
    "url = \"https://archive.ics.uci.edu/ml/machine-learning-databases/00242/ENB2012_data.xlsx\"\n",
    "df = pd.read_excel(url)"
   ]
  },
  {
   "cell_type": "code",
   "execution_count": 4,
   "id": "7ce10fea",
   "metadata": {},
   "outputs": [
    {
     "name": "stdout",
     "output_type": "stream",
     "text": [
      "     X1     X2     X3      X4   X5  X6   X7  X8     Y1     Y2\n",
      "0  0.98  514.5  294.0  110.25  7.0   2  0.0   0  15.55  21.33\n",
      "1  0.98  514.5  294.0  110.25  7.0   3  0.0   0  15.55  21.33\n",
      "2  0.98  514.5  294.0  110.25  7.0   4  0.0   0  15.55  21.33\n",
      "3  0.98  514.5  294.0  110.25  7.0   5  0.0   0  15.55  21.33\n",
      "4  0.90  563.5  318.5  122.50  7.0   2  0.0   0  20.84  28.28\n"
     ]
    }
   ],
   "source": [
    "# print the first five records\n",
    "\n",
    "print(df.head())"
   ]
  },
  {
   "cell_type": "code",
   "execution_count": 5,
   "id": "33dabb96",
   "metadata": {},
   "outputs": [],
   "source": [
    "# rename the columns\n",
    "column_name = {\"X1\" : \"Relative_Compactness\", \n",
    "               \"X2\" : \"Surface_Area\",\n",
    "              \"X3\" : \"Wall_Area\",\n",
    "              \"X4\" : \"Roof_Area\",\n",
    "              \"X5\" : \"Overall_Heights\",\n",
    "              \"X6\" : \"Orientation\",\n",
    "              \"X7\" : \"Glazing_Area\",\n",
    "              \"X8\" : \"Glazing_Area_Distribution\",\n",
    "              \"Y1\" : \"Heating_Load\",\n",
    "              \"Y2\" : \"Cooling_Load\"}\n",
    "\n",
    "df = df.rename(columns=column_name)"
   ]
  },
  {
   "cell_type": "code",
   "execution_count": 6,
   "id": "477b1147",
   "metadata": {},
   "outputs": [
    {
     "data": {
      "text/html": [
       "<div>\n",
       "<style scoped>\n",
       "    .dataframe tbody tr th:only-of-type {\n",
       "        vertical-align: middle;\n",
       "    }\n",
       "\n",
       "    .dataframe tbody tr th {\n",
       "        vertical-align: top;\n",
       "    }\n",
       "\n",
       "    .dataframe thead th {\n",
       "        text-align: right;\n",
       "    }\n",
       "</style>\n",
       "<table border=\"1\" class=\"dataframe\">\n",
       "  <thead>\n",
       "    <tr style=\"text-align: right;\">\n",
       "      <th></th>\n",
       "      <th>Relative_Compactness</th>\n",
       "      <th>Surface_Area</th>\n",
       "      <th>Wall_Area</th>\n",
       "      <th>Roof_Area</th>\n",
       "      <th>Overall_Heights</th>\n",
       "      <th>Orientation</th>\n",
       "      <th>Glazing_Area</th>\n",
       "      <th>Glazing_Area_Distribution</th>\n",
       "      <th>Heating_Load</th>\n",
       "      <th>Cooling_Load</th>\n",
       "    </tr>\n",
       "  </thead>\n",
       "  <tbody>\n",
       "    <tr>\n",
       "      <th>0</th>\n",
       "      <td>0.98</td>\n",
       "      <td>514.5</td>\n",
       "      <td>294.0</td>\n",
       "      <td>110.25</td>\n",
       "      <td>7.0</td>\n",
       "      <td>2</td>\n",
       "      <td>0.0</td>\n",
       "      <td>0</td>\n",
       "      <td>15.55</td>\n",
       "      <td>21.33</td>\n",
       "    </tr>\n",
       "    <tr>\n",
       "      <th>1</th>\n",
       "      <td>0.98</td>\n",
       "      <td>514.5</td>\n",
       "      <td>294.0</td>\n",
       "      <td>110.25</td>\n",
       "      <td>7.0</td>\n",
       "      <td>3</td>\n",
       "      <td>0.0</td>\n",
       "      <td>0</td>\n",
       "      <td>15.55</td>\n",
       "      <td>21.33</td>\n",
       "    </tr>\n",
       "    <tr>\n",
       "      <th>2</th>\n",
       "      <td>0.98</td>\n",
       "      <td>514.5</td>\n",
       "      <td>294.0</td>\n",
       "      <td>110.25</td>\n",
       "      <td>7.0</td>\n",
       "      <td>4</td>\n",
       "      <td>0.0</td>\n",
       "      <td>0</td>\n",
       "      <td>15.55</td>\n",
       "      <td>21.33</td>\n",
       "    </tr>\n",
       "    <tr>\n",
       "      <th>3</th>\n",
       "      <td>0.98</td>\n",
       "      <td>514.5</td>\n",
       "      <td>294.0</td>\n",
       "      <td>110.25</td>\n",
       "      <td>7.0</td>\n",
       "      <td>5</td>\n",
       "      <td>0.0</td>\n",
       "      <td>0</td>\n",
       "      <td>15.55</td>\n",
       "      <td>21.33</td>\n",
       "    </tr>\n",
       "    <tr>\n",
       "      <th>4</th>\n",
       "      <td>0.90</td>\n",
       "      <td>563.5</td>\n",
       "      <td>318.5</td>\n",
       "      <td>122.50</td>\n",
       "      <td>7.0</td>\n",
       "      <td>2</td>\n",
       "      <td>0.0</td>\n",
       "      <td>0</td>\n",
       "      <td>20.84</td>\n",
       "      <td>28.28</td>\n",
       "    </tr>\n",
       "  </tbody>\n",
       "</table>\n",
       "</div>"
      ],
      "text/plain": [
       "   Relative_Compactness  Surface_Area  Wall_Area  Roof_Area  Overall_Heights  \\\n",
       "0                  0.98         514.5      294.0     110.25              7.0   \n",
       "1                  0.98         514.5      294.0     110.25              7.0   \n",
       "2                  0.98         514.5      294.0     110.25              7.0   \n",
       "3                  0.98         514.5      294.0     110.25              7.0   \n",
       "4                  0.90         563.5      318.5     122.50              7.0   \n",
       "\n",
       "   Orientation  Glazing_Area  Glazing_Area_Distribution  Heating_Load  \\\n",
       "0            2           0.0                          0         15.55   \n",
       "1            3           0.0                          0         15.55   \n",
       "2            4           0.0                          0         15.55   \n",
       "3            5           0.0                          0         15.55   \n",
       "4            2           0.0                          0         20.84   \n",
       "\n",
       "   Cooling_Load  \n",
       "0         21.33  \n",
       "1         21.33  \n",
       "2         21.33  \n",
       "3         21.33  \n",
       "4         28.28  "
      ]
     },
     "execution_count": 6,
     "metadata": {},
     "output_type": "execute_result"
    }
   ],
   "source": [
    "# Display the the first five records\n",
    "\n",
    "df.head()"
   ]
  },
  {
   "cell_type": "code",
   "execution_count": 7,
   "id": "929a27d5",
   "metadata": {},
   "outputs": [],
   "source": [
    "# Take a smaple from the dataset\n",
    "simple_reg_df = df[[\"Relative_Compactness\", \"Cooling_Load\"]].sample(15, random_state=2)"
   ]
  },
  {
   "cell_type": "code",
   "execution_count": 8,
   "id": "3e7d07bf",
   "metadata": {},
   "outputs": [
    {
     "data": {
      "text/html": [
       "<div>\n",
       "<style scoped>\n",
       "    .dataframe tbody tr th:only-of-type {\n",
       "        vertical-align: middle;\n",
       "    }\n",
       "\n",
       "    .dataframe tbody tr th {\n",
       "        vertical-align: top;\n",
       "    }\n",
       "\n",
       "    .dataframe thead th {\n",
       "        text-align: right;\n",
       "    }\n",
       "</style>\n",
       "<table border=\"1\" class=\"dataframe\">\n",
       "  <thead>\n",
       "    <tr style=\"text-align: right;\">\n",
       "      <th></th>\n",
       "      <th>Relative_Compactness</th>\n",
       "      <th>Cooling_Load</th>\n",
       "    </tr>\n",
       "  </thead>\n",
       "  <tbody>\n",
       "    <tr>\n",
       "      <th>158</th>\n",
       "      <td>0.82</td>\n",
       "      <td>25.35</td>\n",
       "    </tr>\n",
       "    <tr>\n",
       "      <th>251</th>\n",
       "      <td>0.86</td>\n",
       "      <td>31.28</td>\n",
       "    </tr>\n",
       "    <tr>\n",
       "      <th>631</th>\n",
       "      <td>0.90</td>\n",
       "      <td>33.31</td>\n",
       "    </tr>\n",
       "    <tr>\n",
       "      <th>757</th>\n",
       "      <td>0.66</td>\n",
       "      <td>17.79</td>\n",
       "    </tr>\n",
       "    <tr>\n",
       "      <th>689</th>\n",
       "      <td>0.79</td>\n",
       "      <td>47.59</td>\n",
       "    </tr>\n",
       "    <tr>\n",
       "      <th>573</th>\n",
       "      <td>0.62</td>\n",
       "      <td>17.21</td>\n",
       "    </tr>\n",
       "    <tr>\n",
       "      <th>553</th>\n",
       "      <td>0.74</td>\n",
       "      <td>17.25</td>\n",
       "    </tr>\n",
       "    <tr>\n",
       "      <th>728</th>\n",
       "      <td>0.86</td>\n",
       "      <td>29.69</td>\n",
       "    </tr>\n",
       "    <tr>\n",
       "      <th>183</th>\n",
       "      <td>0.66</td>\n",
       "      <td>13.83</td>\n",
       "    </tr>\n",
       "    <tr>\n",
       "      <th>515</th>\n",
       "      <td>0.69</td>\n",
       "      <td>14.60</td>\n",
       "    </tr>\n",
       "    <tr>\n",
       "      <th>460</th>\n",
       "      <td>0.71</td>\n",
       "      <td>14.67</td>\n",
       "    </tr>\n",
       "    <tr>\n",
       "      <th>143</th>\n",
       "      <td>0.62</td>\n",
       "      <td>14.24</td>\n",
       "    </tr>\n",
       "    <tr>\n",
       "      <th>258</th>\n",
       "      <td>0.79</td>\n",
       "      <td>43.14</td>\n",
       "    </tr>\n",
       "    <tr>\n",
       "      <th>682</th>\n",
       "      <td>0.86</td>\n",
       "      <td>36.21</td>\n",
       "    </tr>\n",
       "    <tr>\n",
       "      <th>62</th>\n",
       "      <td>0.82</td>\n",
       "      <td>24.61</td>\n",
       "    </tr>\n",
       "  </tbody>\n",
       "</table>\n",
       "</div>"
      ],
      "text/plain": [
       "     Relative_Compactness  Cooling_Load\n",
       "158                  0.82         25.35\n",
       "251                  0.86         31.28\n",
       "631                  0.90         33.31\n",
       "757                  0.66         17.79\n",
       "689                  0.79         47.59\n",
       "573                  0.62         17.21\n",
       "553                  0.74         17.25\n",
       "728                  0.86         29.69\n",
       "183                  0.66         13.83\n",
       "515                  0.69         14.60\n",
       "460                  0.71         14.67\n",
       "143                  0.62         14.24\n",
       "258                  0.79         43.14\n",
       "682                  0.86         36.21\n",
       "62                   0.82         24.61"
      ]
     },
     "execution_count": 8,
     "metadata": {},
     "output_type": "execute_result"
    }
   ],
   "source": [
    "# Check the information contained in the sampled data\n",
    "simple_reg_df"
   ]
  },
  {
   "cell_type": "code",
   "execution_count": 9,
   "id": "b9e44675",
   "metadata": {},
   "outputs": [
    {
     "data": {
      "image/png": "[encoded data removed]",
      "text/plain": [
       "<Figure size 432x288 with 1 Axes>"
      ]
     },
     "metadata": {
      "needs_background": "light"
     },
     "output_type": "display_data"
    }
   ],
   "source": [
    "# Plot a regression line for the sampled dataset\n",
    "sns.regplot(x=\"Relative_Compactness\", y = \"Cooling_Load\", data = simple_reg_df)\n",
    "\n",
    "plt.show()"
   ]
  },
  {
   "cell_type": "code",
   "execution_count": 10,
   "id": "f51827a7",
   "metadata": {},
   "outputs": [],
   "source": [
    "# checking whether there is presence of multicolinearity among the features i.e problem of multicolinearity\n",
    "\n",
    "X = df[[\"Relative_Compactness\", \"Surface_Area\"]]\n",
    "\n",
    "y = df[\"Cooling_Load\"]"
   ]
  },
  {
   "cell_type": "code",
   "execution_count": 11,
   "id": "8e96c5e7",
   "metadata": {},
   "outputs": [
    {
     "name": "stderr",
     "output_type": "stream",
     "text": [
      "C:\\Users\\KAYODE\\anaconda3\\lib\\site-packages\\statsmodels\\tsa\\tsatools.py:142: FutureWarning: In a future version of pandas all arguments of concat except for the argument 'objs' will be keyword-only\n",
      "  x = pd.concat(x[::order], 1)\n"
     ]
    }
   ],
   "source": [
    "import statsmodels.api as sm\n",
    "\n",
    "X = sm.add_constant(X)"
   ]
  },
  {
   "cell_type": "code",
   "execution_count": 12,
   "id": "c7e0d34c",
   "metadata": {},
   "outputs": [
    {
     "data": {
      "text/html": [
       "<div>\n",
       "<style scoped>\n",
       "    .dataframe tbody tr th:only-of-type {\n",
       "        vertical-align: middle;\n",
       "    }\n",
       "\n",
       "    .dataframe tbody tr th {\n",
       "        vertical-align: top;\n",
       "    }\n",
       "\n",
       "    .dataframe thead th {\n",
       "        text-align: right;\n",
       "    }\n",
       "</style>\n",
       "<table border=\"1\" class=\"dataframe\">\n",
       "  <thead>\n",
       "    <tr style=\"text-align: right;\">\n",
       "      <th></th>\n",
       "      <th>const</th>\n",
       "      <th>Relative_Compactness</th>\n",
       "      <th>Surface_Area</th>\n",
       "    </tr>\n",
       "  </thead>\n",
       "  <tbody>\n",
       "    <tr>\n",
       "      <th>0</th>\n",
       "      <td>1.0</td>\n",
       "      <td>0.98</td>\n",
       "      <td>514.5</td>\n",
       "    </tr>\n",
       "    <tr>\n",
       "      <th>1</th>\n",
       "      <td>1.0</td>\n",
       "      <td>0.98</td>\n",
       "      <td>514.5</td>\n",
       "    </tr>\n",
       "    <tr>\n",
       "      <th>2</th>\n",
       "      <td>1.0</td>\n",
       "      <td>0.98</td>\n",
       "      <td>514.5</td>\n",
       "    </tr>\n",
       "    <tr>\n",
       "      <th>3</th>\n",
       "      <td>1.0</td>\n",
       "      <td>0.98</td>\n",
       "      <td>514.5</td>\n",
       "    </tr>\n",
       "    <tr>\n",
       "      <th>4</th>\n",
       "      <td>1.0</td>\n",
       "      <td>0.90</td>\n",
       "      <td>563.5</td>\n",
       "    </tr>\n",
       "  </tbody>\n",
       "</table>\n",
       "</div>"
      ],
      "text/plain": [
       "   const  Relative_Compactness  Surface_Area\n",
       "0    1.0                  0.98         514.5\n",
       "1    1.0                  0.98         514.5\n",
       "2    1.0                  0.98         514.5\n",
       "3    1.0                  0.98         514.5\n",
       "4    1.0                  0.90         563.5"
      ]
     },
     "execution_count": 12,
     "metadata": {},
     "output_type": "execute_result"
    }
   ],
   "source": [
    "X.head()"
   ]
  },
  {
   "cell_type": "code",
   "execution_count": 13,
   "id": "b00906d2",
   "metadata": {},
   "outputs": [],
   "source": [
    "# fit the OLS model\n",
    "\n",
    "model = sm.OLS(y, X).fit()"
   ]
  },
  {
   "cell_type": "code",
   "execution_count": 14,
   "id": "ba5a7bbf",
   "metadata": {},
   "outputs": [
    {
     "data": {
      "text/html": [
       "<table class=\"simpletable\">\n",
       "<caption>OLS Regression Results</caption>\n",
       "<tr>\n",
       "  <th>Dep. Variable:</th>      <td>Cooling_Load</td>   <th>  R-squared:         </th> <td>   0.521</td> \n",
       "</tr>\n",
       "<tr>\n",
       "  <th>Model:</th>                   <td>OLS</td>       <th>  Adj. R-squared:    </th> <td>   0.520</td> \n",
       "</tr>\n",
       "<tr>\n",
       "  <th>Method:</th>             <td>Least Squares</td>  <th>  F-statistic:       </th> <td>   416.5</td> \n",
       "</tr>\n",
       "<tr>\n",
       "  <th>Date:</th>             <td>Tue, 09 Aug 2022</td> <th>  Prob (F-statistic):</th> <td>4.23e-123</td>\n",
       "</tr>\n",
       "<tr>\n",
       "  <th>Time:</th>                 <td>14:17:12</td>     <th>  Log-Likelihood:    </th> <td> -2536.4</td> \n",
       "</tr>\n",
       "<tr>\n",
       "  <th>No. Observations:</th>      <td>   768</td>      <th>  AIC:               </th> <td>   5079.</td> \n",
       "</tr>\n",
       "<tr>\n",
       "  <th>Df Residuals:</th>          <td>   765</td>      <th>  BIC:               </th> <td>   5093.</td> \n",
       "</tr>\n",
       "<tr>\n",
       "  <th>Df Model:</th>              <td>     2</td>      <th>                     </th>     <td> </td>    \n",
       "</tr>\n",
       "<tr>\n",
       "  <th>Covariance Type:</th>      <td>nonrobust</td>    <th>                     </th>     <td> </td>    \n",
       "</tr>\n",
       "</table>\n",
       "<table class=\"simpletable\">\n",
       "<tr>\n",
       "            <td></td>              <th>coef</th>     <th>std err</th>      <th>t</th>      <th>P>|t|</th>  <th>[0.025</th>    <th>0.975]</th>  \n",
       "</tr>\n",
       "<tr>\n",
       "  <th>const</th>                <td>  363.0331</td> <td>   27.769</td> <td>   13.073</td> <td> 0.000</td> <td>  308.521</td> <td>  417.545</td>\n",
       "</tr>\n",
       "<tr>\n",
       "  <th>Relative_Compactness</th> <td> -185.1513</td> <td>   17.713</td> <td>  -10.453</td> <td> 0.000</td> <td> -219.924</td> <td> -150.379</td>\n",
       "</tr>\n",
       "<tr>\n",
       "  <th>Surface_Area</th>         <td>   -0.2932</td> <td>    0.021</td> <td>  -13.785</td> <td> 0.000</td> <td>   -0.335</td> <td>   -0.251</td>\n",
       "</tr>\n",
       "</table>\n",
       "<table class=\"simpletable\">\n",
       "<tr>\n",
       "  <th>Omnibus:</th>       <td>28.080</td> <th>  Durbin-Watson:     </th> <td>   0.447</td>\n",
       "</tr>\n",
       "<tr>\n",
       "  <th>Prob(Omnibus):</th> <td> 0.000</td> <th>  Jarque-Bera (JB):  </th> <td>  16.547</td>\n",
       "</tr>\n",
       "<tr>\n",
       "  <th>Skew:</th>          <td> 0.202</td> <th>  Prob(JB):          </th> <td>0.000255</td>\n",
       "</tr>\n",
       "<tr>\n",
       "  <th>Kurtosis:</th>      <td> 2.406</td> <th>  Cond. No.          </th> <td>9.38e+04</td>\n",
       "</tr>\n",
       "</table><br/><br/>Notes:<br/>[1] Standard Errors assume that the covariance matrix of the errors is correctly specified.<br/>[2] The condition number is large, 9.38e+04. This might indicate that there are<br/>strong multicollinearity or other numerical problems."
      ],
      "text/plain": [
       "<class 'statsmodels.iolib.summary.Summary'>\n",
       "\"\"\"\n",
       "                            OLS Regression Results                            \n",
       "==============================================================================\n",
       "Dep. Variable:           Cooling_Load   R-squared:                       0.521\n",
       "Model:                            OLS   Adj. R-squared:                  0.520\n",
       "Method:                 Least Squares   F-statistic:                     416.5\n",
       "Date:                Tue, 09 Aug 2022   Prob (F-statistic):          4.23e-123\n",
       "Time:                        14:17:12   Log-Likelihood:                -2536.4\n",
       "No. Observations:                 768   AIC:                             5079.\n",
       "Df Residuals:                     765   BIC:                             5093.\n",
       "Df Model:                           2                                         \n",
       "Covariance Type:            nonrobust                                         \n",
       "========================================================================================\n",
       "                           coef    std err          t      P>|t|      [0.025      0.975]\n",
       "----------------------------------------------------------------------------------------\n",
       "const                  363.0331     27.769     13.073      0.000     308.521     417.545\n",
       "Relative_Compactness  -185.1513     17.713    -10.453      0.000    -219.924    -150.379\n",
       "Surface_Area            -0.2932      0.021    -13.785      0.000      -0.335      -0.251\n",
       "==============================================================================\n",
       "Omnibus:                       28.080   Durbin-Watson:                   0.447\n",
       "Prob(Omnibus):                  0.000   Jarque-Bera (JB):               16.547\n",
       "Skew:                           0.202   Prob(JB):                     0.000255\n",
       "Kurtosis:                       2.406   Cond. No.                     9.38e+04\n",
       "==============================================================================\n",
       "\n",
       "Notes:\n",
       "[1] Standard Errors assume that the covariance matrix of the errors is correctly specified.\n",
       "[2] The condition number is large, 9.38e+04. This might indicate that there are\n",
       "strong multicollinearity or other numerical problems.\n",
       "\"\"\""
      ]
     },
     "execution_count": 14,
     "metadata": {},
     "output_type": "execute_result"
    }
   ],
   "source": [
    "model.summary()"
   ]
  },
  {
   "cell_type": "code",
   "execution_count": 15,
   "id": "6ae34cdb",
   "metadata": {},
   "outputs": [
    {
     "data": {
      "text/html": [
       "<div>\n",
       "<style scoped>\n",
       "    .dataframe tbody tr th:only-of-type {\n",
       "        vertical-align: middle;\n",
       "    }\n",
       "\n",
       "    .dataframe tbody tr th {\n",
       "        vertical-align: top;\n",
       "    }\n",
       "\n",
       "    .dataframe thead th {\n",
       "        text-align: right;\n",
       "    }\n",
       "</style>\n",
       "<table border=\"1\" class=\"dataframe\">\n",
       "  <thead>\n",
       "    <tr style=\"text-align: right;\">\n",
       "      <th></th>\n",
       "      <th>Relative_Compactness</th>\n",
       "      <th>Surface_Area</th>\n",
       "      <th>Wall_Area</th>\n",
       "      <th>Roof_Area</th>\n",
       "      <th>Overall_Heights</th>\n",
       "      <th>Orientation</th>\n",
       "      <th>Glazing_Area</th>\n",
       "      <th>Glazing_Area_Distribution</th>\n",
       "      <th>Heating_Load</th>\n",
       "      <th>Cooling_Load</th>\n",
       "    </tr>\n",
       "  </thead>\n",
       "  <tbody>\n",
       "    <tr>\n",
       "      <th>Relative_Compactness</th>\n",
       "      <td>1.000000e+00</td>\n",
       "      <td>-9.919015e-01</td>\n",
       "      <td>-2.037817e-01</td>\n",
       "      <td>-8.688234e-01</td>\n",
       "      <td>8.277473e-01</td>\n",
       "      <td>4.678592e-17</td>\n",
       "      <td>-2.960552e-15</td>\n",
       "      <td>-7.107006e-16</td>\n",
       "      <td>0.622272</td>\n",
       "      <td>0.634339</td>\n",
       "    </tr>\n",
       "    <tr>\n",
       "      <th>Surface_Area</th>\n",
       "      <td>-9.919015e-01</td>\n",
       "      <td>1.000000e+00</td>\n",
       "      <td>1.955016e-01</td>\n",
       "      <td>8.807195e-01</td>\n",
       "      <td>-8.581477e-01</td>\n",
       "      <td>-3.459372e-17</td>\n",
       "      <td>3.636925e-15</td>\n",
       "      <td>2.438409e-15</td>\n",
       "      <td>-0.658120</td>\n",
       "      <td>-0.672999</td>\n",
       "    </tr>\n",
       "    <tr>\n",
       "      <th>Wall_Area</th>\n",
       "      <td>-2.037817e-01</td>\n",
       "      <td>1.955016e-01</td>\n",
       "      <td>1.000000e+00</td>\n",
       "      <td>-2.923165e-01</td>\n",
       "      <td>2.809757e-01</td>\n",
       "      <td>-2.429499e-17</td>\n",
       "      <td>-8.567455e-17</td>\n",
       "      <td>2.067384e-16</td>\n",
       "      <td>0.455671</td>\n",
       "      <td>0.427117</td>\n",
       "    </tr>\n",
       "    <tr>\n",
       "      <th>Roof_Area</th>\n",
       "      <td>-8.688234e-01</td>\n",
       "      <td>8.807195e-01</td>\n",
       "      <td>-2.923165e-01</td>\n",
       "      <td>1.000000e+00</td>\n",
       "      <td>-9.725122e-01</td>\n",
       "      <td>-5.830058e-17</td>\n",
       "      <td>-1.759011e-15</td>\n",
       "      <td>-1.078071e-15</td>\n",
       "      <td>-0.861828</td>\n",
       "      <td>-0.862547</td>\n",
       "    </tr>\n",
       "    <tr>\n",
       "      <th>Overall_Heights</th>\n",
       "      <td>8.277473e-01</td>\n",
       "      <td>-8.581477e-01</td>\n",
       "      <td>2.809757e-01</td>\n",
       "      <td>-9.725122e-01</td>\n",
       "      <td>1.000000e+00</td>\n",
       "      <td>4.492205e-17</td>\n",
       "      <td>1.489134e-17</td>\n",
       "      <td>-2.920613e-17</td>\n",
       "      <td>0.889430</td>\n",
       "      <td>0.895785</td>\n",
       "    </tr>\n",
       "    <tr>\n",
       "      <th>Orientation</th>\n",
       "      <td>4.678592e-17</td>\n",
       "      <td>-3.459372e-17</td>\n",
       "      <td>-2.429499e-17</td>\n",
       "      <td>-5.830058e-17</td>\n",
       "      <td>4.492205e-17</td>\n",
       "      <td>1.000000e+00</td>\n",
       "      <td>-9.406007e-16</td>\n",
       "      <td>-2.549352e-16</td>\n",
       "      <td>-0.002587</td>\n",
       "      <td>0.014290</td>\n",
       "    </tr>\n",
       "    <tr>\n",
       "      <th>Glazing_Area</th>\n",
       "      <td>-2.960552e-15</td>\n",
       "      <td>3.636925e-15</td>\n",
       "      <td>-8.567455e-17</td>\n",
       "      <td>-1.759011e-15</td>\n",
       "      <td>1.489134e-17</td>\n",
       "      <td>-9.406007e-16</td>\n",
       "      <td>1.000000e+00</td>\n",
       "      <td>2.129642e-01</td>\n",
       "      <td>0.269842</td>\n",
       "      <td>0.207505</td>\n",
       "    </tr>\n",
       "    <tr>\n",
       "      <th>Glazing_Area_Distribution</th>\n",
       "      <td>-7.107006e-16</td>\n",
       "      <td>2.438409e-15</td>\n",
       "      <td>2.067384e-16</td>\n",
       "      <td>-1.078071e-15</td>\n",
       "      <td>-2.920613e-17</td>\n",
       "      <td>-2.549352e-16</td>\n",
       "      <td>2.129642e-01</td>\n",
       "      <td>1.000000e+00</td>\n",
       "      <td>0.087368</td>\n",
       "      <td>0.050525</td>\n",
       "    </tr>\n",
       "    <tr>\n",
       "      <th>Heating_Load</th>\n",
       "      <td>6.222719e-01</td>\n",
       "      <td>-6.581199e-01</td>\n",
       "      <td>4.556714e-01</td>\n",
       "      <td>-8.618281e-01</td>\n",
       "      <td>8.894305e-01</td>\n",
       "      <td>-2.586763e-03</td>\n",
       "      <td>2.698417e-01</td>\n",
       "      <td>8.736846e-02</td>\n",
       "      <td>1.000000</td>\n",
       "      <td>0.975862</td>\n",
       "    </tr>\n",
       "    <tr>\n",
       "      <th>Cooling_Load</th>\n",
       "      <td>6.343391e-01</td>\n",
       "      <td>-6.729989e-01</td>\n",
       "      <td>4.271170e-01</td>\n",
       "      <td>-8.625466e-01</td>\n",
       "      <td>8.957852e-01</td>\n",
       "      <td>1.428960e-02</td>\n",
       "      <td>2.075050e-01</td>\n",
       "      <td>5.052512e-02</td>\n",
       "      <td>0.975862</td>\n",
       "      <td>1.000000</td>\n",
       "    </tr>\n",
       "  </tbody>\n",
       "</table>\n",
       "</div>"
      ],
      "text/plain": [
       "                           Relative_Compactness  Surface_Area     Wall_Area  \\\n",
       "Relative_Compactness               1.000000e+00 -9.919015e-01 -2.037817e-01   \n",
       "Surface_Area                      -9.919015e-01  1.000000e+00  1.955016e-01   \n",
       "Wall_Area                         -2.037817e-01  1.955016e-01  1.000000e+00   \n",
       "Roof_Area                         -8.688234e-01  8.807195e-01 -2.923165e-01   \n",
       "Overall_Heights                    8.277473e-01 -8.581477e-01  2.809757e-01   \n",
       "Orientation                        4.678592e-17 -3.459372e-17 -2.429499e-17   \n",
       "Glazing_Area                      -2.960552e-15  3.636925e-15 -8.567455e-17   \n",
       "Glazing_Area_Distribution         -7.107006e-16  2.438409e-15  2.067384e-16   \n",
       "Heating_Load                       6.222719e-01 -6.581199e-01  4.556714e-01   \n",
       "Cooling_Load                       6.343391e-01 -6.729989e-01  4.271170e-01   \n",
       "\n",
       "                              Roof_Area  Overall_Heights   Orientation  \\\n",
       "Relative_Compactness      -8.688234e-01     8.277473e-01  4.678592e-17   \n",
       "Surface_Area               8.807195e-01    -8.581477e-01 -3.459372e-17   \n",
       "Wall_Area                 -2.923165e-01     2.809757e-01 -2.429499e-17   \n",
       "Roof_Area                  1.000000e+00    -9.725122e-01 -5.830058e-17   \n",
       "Overall_Heights           -9.725122e-01     1.000000e+00  4.492205e-17   \n",
       "Orientation               -5.830058e-17     4.492205e-17  1.000000e+00   \n",
       "Glazing_Area              -1.759011e-15     1.489134e-17 -9.406007e-16   \n",
       "Glazing_Area_Distribution -1.078071e-15    -2.920613e-17 -2.549352e-16   \n",
       "Heating_Load              -8.618281e-01     8.894305e-01 -2.586763e-03   \n",
       "Cooling_Load              -8.625466e-01     8.957852e-01  1.428960e-02   \n",
       "\n",
       "                           Glazing_Area  Glazing_Area_Distribution  \\\n",
       "Relative_Compactness      -2.960552e-15              -7.107006e-16   \n",
       "Surface_Area               3.636925e-15               2.438409e-15   \n",
       "Wall_Area                 -8.567455e-17               2.067384e-16   \n",
       "Roof_Area                 -1.759011e-15              -1.078071e-15   \n",
       "Overall_Heights            1.489134e-17              -2.920613e-17   \n",
       "Orientation               -9.406007e-16              -2.549352e-16   \n",
       "Glazing_Area               1.000000e+00               2.129642e-01   \n",
       "Glazing_Area_Distribution  2.129642e-01               1.000000e+00   \n",
       "Heating_Load               2.698417e-01               8.736846e-02   \n",
       "Cooling_Load               2.075050e-01               5.052512e-02   \n",
       "\n",
       "                           Heating_Load  Cooling_Load  \n",
       "Relative_Compactness           0.622272      0.634339  \n",
       "Surface_Area                  -0.658120     -0.672999  \n",
       "Wall_Area                      0.455671      0.427117  \n",
       "Roof_Area                     -0.861828     -0.862547  \n",
       "Overall_Heights                0.889430      0.895785  \n",
       "Orientation                   -0.002587      0.014290  \n",
       "Glazing_Area                   0.269842      0.207505  \n",
       "Glazing_Area_Distribution      0.087368      0.050525  \n",
       "Heating_Load                   1.000000      0.975862  \n",
       "Cooling_Load                   0.975862      1.000000  "
      ]
     },
     "execution_count": 15,
     "metadata": {},
     "output_type": "execute_result"
    }
   ],
   "source": [
    "df.corr()"
   ]
  },
  {
   "cell_type": "markdown",
   "id": "65f3ca67",
   "metadata": {},
   "source": [
    "# Using Sk-Learn library to examine the relationship between Relative_compactness and Cooling_Load"
   ]
  },
  {
   "cell_type": "code",
   "execution_count": 1,
   "id": "9619629e",
   "metadata": {},
   "outputs": [],
   "source": [
    "from sklearn.linear_model import LinearRegression"
   ]
  },
  {
   "cell_type": "code",
   "execution_count": 16,
   "id": "dc63b694",
   "metadata": {},
   "outputs": [],
   "source": [
    "# instantiate object for the model\n",
    "\n",
    "model = LinearRegression()"
   ]
  },
  {
   "cell_type": "code",
   "execution_count": 17,
   "id": "8d8a3708",
   "metadata": {},
   "outputs": [],
   "source": [
    "# define X and y\n",
    "\n",
    "x = df[[\"Relative_Compactness\"]]\n",
    "y = df[\"Cooling_Load\"]"
   ]
  },
  {
   "cell_type": "code",
   "execution_count": 21,
   "id": "bf433602",
   "metadata": {},
   "outputs": [],
   "source": [
    "# Split the dataset into training and test set\n",
    "\n",
    "from sklearn.model_selection import train_test_split\n",
    "\n",
    "X_train, X_test, y_train, y_test = train_test_split(x, y, test_size = 0.3, random_state =1)"
   ]
  },
  {
   "cell_type": "code",
   "execution_count": 22,
   "id": "36afaa27",
   "metadata": {},
   "outputs": [
    {
     "data": {
      "text/plain": [
       "LinearRegression()"
      ]
     },
     "execution_count": 22,
     "metadata": {},
     "output_type": "execute_result"
    }
   ],
   "source": [
    "# fit the model\n",
    "\n",
    "model.fit(X_train, y_train)"
   ]
  },
  {
   "cell_type": "code",
   "execution_count": 23,
   "id": "eba8802a",
   "metadata": {},
   "outputs": [
    {
     "data": {
      "text/plain": [
       "array([56.1486788])"
      ]
     },
     "execution_count": 23,
     "metadata": {},
     "output_type": "execute_result"
    }
   ],
   "source": [
    "# print the coefficient of the model\n",
    "\n",
    "model.coef_"
   ]
  },
  {
   "cell_type": "markdown",
   "id": "4b4f9eea",
   "metadata": {},
   "source": [
    "###### Based on the magnitude of the coefficient, we would expect a positive relationship between relative compactness (X) and cooling load (y). This means that as relative compactness increases, cooling load increase as well.\n",
    "###### Finally it is important to note that when relative compactness changes by relatively small unit ( say 1 unit), cooling load would change by 56 units."
   ]
  },
  {
   "cell_type": "code",
   "execution_count": 24,
   "id": "dc49a842",
   "metadata": {},
   "outputs": [
    {
     "data": {
      "text/plain": [
       "-18.681309187313396"
      ]
     },
     "execution_count": 24,
     "metadata": {},
     "output_type": "execute_result"
    }
   ],
   "source": [
    "# print the intercept of the model\n",
    "\n",
    "model.intercept_"
   ]
  },
  {
   "cell_type": "code",
   "execution_count": 25,
   "id": "d1d92239",
   "metadata": {},
   "outputs": [],
   "source": [
    "# Generate prediction from the model\n",
    "\n",
    "model_pred = model.predict(X_test)"
   ]
  },
  {
   "cell_type": "code",
   "execution_count": 27,
   "id": "2e010fba",
   "metadata": {},
   "outputs": [
    {
     "data": {
      "text/plain": [
       "56.8317046442471"
      ]
     },
     "execution_count": 27,
     "metadata": {},
     "output_type": "execute_result"
    }
   ],
   "source": [
    "# Evaluate the performance of the model using Mean Squared Error (MSE)\n",
    "\n",
    "from sklearn.metrics import mean_squared_error\n",
    "MSE = mean_squared_error(y_test, model_pred)\n",
    "\n",
    "MSE"
   ]
  },
  {
   "cell_type": "code",
   "execution_count": null,
   "id": "33c3821b",
   "metadata": {},
   "outputs": [],
   "source": []
  }
 ],
 "metadata": {
  "kernelspec": {
   "display_name": "Python 3 (ipykernel)",
   "language": "python",
   "name": "python3"
  },
  "language_info": {
   "codemirror_mode": {
    "name": "ipython",
    "version": 3
   },
   "file_extension": ".py",
   "mimetype": "text/x-python",
   "name": "python",
   "nbconvert_exporter": "python",
   "pygments_lexer": "ipython3",
   "version": "3.9.7"
  }
 },
 "nbformat": 4,
 "nbformat_minor": 5
}
